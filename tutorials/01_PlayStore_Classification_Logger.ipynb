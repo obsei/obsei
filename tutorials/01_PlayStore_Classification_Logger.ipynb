{
  "nbformat": 4,
  "nbformat_minor": 0,
  "metadata": {
    "colab": {
      "name": "01_PlayStore_Classification_Logger.ipynb",
      "provenance": [],
      "authorship_tag": "ABX9TyOk1SXBDdRZeDhvbn/BSTZY",
      "include_colab_link": true
    },
    "kernelspec": {
      "name": "python3",
      "display_name": "Python 3"
    },
    "language_info": {
      "name": "python"
    }
  },
  "cells": [
    {
      "cell_type": "markdown",
      "metadata": {
        "id": "view-in-github",
        "colab_type": "text"
      },
      "source": [
        "<a href=\"https://colab.research.google.com/github/obsei/obsei/blob/master/example/Obsei_playstore_classification_logger_example.ipynb\" target=\"_parent\"><img src=\"https://colab.research.google.com/assets/colab-badge.svg\" alt=\"Open In Colab\"/></a>"
      ]
    },
    {
      "cell_type": "markdown",
      "metadata": {
        "id": "hVJynVqofWGx"
      },
      "source": [
        "## Install latest Obsei"
      ]
    },
    {
      "cell_type": "code",
      "metadata": {
        "colab": {
          "base_uri": "https://localhost:8080/"
        },
        "id": "gz1fUXcEfQmv",
        "outputId": "217e25ef-9906-4110-c8c9-f051972aae3b"
      },
      "source": [
        "!pip install obsei[all]"
      ],
      "execution_count": 1,
      "outputs": [
        {
          "output_type": "stream",
          "text": [
            "Collecting git+https://github.com/obsei/obsei.git\n",
            "  Cloning https://github.com/obsei/obsei.git to /tmp/pip-req-build-qs53rb_m\n",
            "  Running command git clone -q https://github.com/obsei/obsei.git /tmp/pip-req-build-qs53rb_m\n",
            "Requirement already satisfied (use --upgrade to upgrade): obsei==0.0.6 from git+https://github.com/obsei/obsei.git in /usr/local/lib/python3.7/dist-packages\n",
            "Requirement already satisfied: app-store-reviews-reader==1.0 in /usr/local/lib/python3.7/dist-packages (from obsei==0.0.6) (1.0)\n",
            "Requirement already satisfied: apscheduler==3.7.0 in /usr/local/lib/python3.7/dist-packages (from obsei==0.0.6) (3.7.0)\n",
            "Requirement already satisfied: atlassian-python-api==3.8.0 in /usr/local/lib/python3.7/dist-packages (from obsei==0.0.6) (3.8.0)\n",
            "Requirement already satisfied: beautifulsoup4==4.9.3 in /usr/local/lib/python3.7/dist-packages (from obsei==0.0.6) (4.9.3)\n",
            "Requirement already satisfied: cachetools==4.2.1 in /usr/local/lib/python3.7/dist-packages (from obsei==0.0.6) (4.2.1)\n",
            "Requirement already satisfied: certifi==2020.12.5 in /usr/local/lib/python3.7/dist-packages (from obsei==0.0.6) (2020.12.5)\n",
            "Requirement already satisfied: chardet==4.0.0 in /usr/local/lib/python3.7/dist-packages (from obsei==0.0.6) (4.0.0)\n",
            "Requirement already satisfied: click==7.1.2 in /usr/local/lib/python3.7/dist-packages (from obsei==0.0.6) (7.1.2)\n",
            "Requirement already satisfied: deprecated==1.2.12 in /usr/local/lib/python3.7/dist-packages (from obsei==0.0.6) (1.2.12)\n",
            "Requirement already satisfied: elasticsearch==7.11.0 in /usr/local/lib/python3.7/dist-packages (from obsei==0.0.6) (7.11.0)\n",
            "Requirement already satisfied: fastapi==0.63.0 in /usr/local/lib/python3.7/dist-packages (from obsei==0.0.6) (0.63.0)\n",
            "Requirement already satisfied: feedparser==6.0.2 in /usr/local/lib/python3.7/dist-packages (from obsei==0.0.6) (6.0.2)\n",
            "Requirement already satisfied: filelock==3.0.12 in /usr/local/lib/python3.7/dist-packages (from obsei==0.0.6) (3.0.12)\n",
            "Requirement already satisfied: flask==1.1.2 in /usr/local/lib/python3.7/dist-packages (from obsei==0.0.6) (1.1.2)\n",
            "Requirement already satisfied: google-api-core==1.26.1 in /usr/local/lib/python3.7/dist-packages (from obsei==0.0.6) (1.26.1)\n",
            "Requirement already satisfied: google-api-python-client==2.0.2 in /usr/local/lib/python3.7/dist-packages (from obsei==0.0.6) (2.0.2)\n",
            "Requirement already satisfied: google-auth-httplib2==0.1.0 in /usr/local/lib/python3.7/dist-packages (from obsei==0.0.6) (0.1.0)\n",
            "Requirement already satisfied: google-auth==1.28.0 in /usr/local/lib/python3.7/dist-packages (from obsei==0.0.6) (1.28.0)\n",
            "Requirement already satisfied: google-play-scraper==0.1.2 in /usr/local/lib/python3.7/dist-packages (from obsei==0.0.6) (0.1.2)\n",
            "Requirement already satisfied: googleapis-common-protos==1.53.0 in /usr/local/lib/python3.7/dist-packages (from obsei==0.0.6) (1.53.0)\n",
            "Requirement already satisfied: greenlet==1.0.0 in /usr/local/lib/python3.7/dist-packages (from obsei==0.0.6) (1.0.0)\n",
            "Requirement already satisfied: gunicorn==20.0.4 in /usr/local/lib/python3.7/dist-packages (from obsei==0.0.6) (20.0.4)\n",
            "Requirement already satisfied: h11==0.12.0 in /usr/local/lib/python3.7/dist-packages (from obsei==0.0.6) (0.12.0)\n",
            "Requirement already satisfied: httplib2==0.19.0 in /usr/local/lib/python3.7/dist-packages (from obsei==0.0.6) (0.19.0)\n",
            "Requirement already satisfied: httptools==0.1.1 in /usr/local/lib/python3.7/dist-packages (from obsei==0.0.6) (0.1.1)\n",
            "Requirement already satisfied: idna==2.10 in /usr/local/lib/python3.7/dist-packages (from obsei==0.0.6) (2.10)\n",
            "Requirement already satisfied: importlib-metadata==3.7.3 in /usr/local/lib/python3.7/dist-packages (from obsei==0.0.6) (3.7.3)\n",
            "Requirement already satisfied: itsdangerous==1.1.0 in /usr/local/lib/python3.7/dist-packages (from obsei==0.0.6) (1.1.0)\n",
            "Requirement already satisfied: jinja2==2.11.3 in /usr/local/lib/python3.7/dist-packages (from obsei==0.0.6) (2.11.3)\n",
            "Requirement already satisfied: joblib==1.0.1 in /usr/local/lib/python3.7/dist-packages (from obsei==0.0.6) (1.0.1)\n",
            "Requirement already satisfied: markupsafe==1.1.1 in /usr/local/lib/python3.7/dist-packages (from obsei==0.0.6) (1.1.1)\n",
            "Requirement already satisfied: mmh3==3.0.0 in /usr/local/lib/python3.7/dist-packages (from obsei==0.0.6) (3.0.0)\n",
            "Requirement already satisfied: numpy==1.20.1 in /usr/local/lib/python3.7/dist-packages (from obsei==0.0.6) (1.20.1)\n",
            "Requirement already satisfied: oauthlib==3.1.0 in /usr/local/lib/python3.7/dist-packages (from obsei==0.0.6) (3.1.0)\n",
            "Requirement already satisfied: packaging==20.9 in /usr/local/lib/python3.7/dist-packages (from obsei==0.0.6) (20.9)\n",
            "Requirement already satisfied: praw==7.2.0 in /usr/local/lib/python3.7/dist-packages (from obsei==0.0.6) (7.2.0)\n",
            "Requirement already satisfied: prawcore==2.0.0 in /usr/local/lib/python3.7/dist-packages (from obsei==0.0.6) (2.0.0)\n",
            "Requirement already satisfied: protobuf==3.15.6 in /usr/local/lib/python3.7/dist-packages (from obsei==0.0.6) (3.15.6)\n",
            "Requirement already satisfied: pyasn1-modules==0.2.8 in /usr/local/lib/python3.7/dist-packages (from obsei==0.0.6) (0.2.8)\n",
            "Requirement already satisfied: pyasn1==0.4.8 in /usr/local/lib/python3.7/dist-packages (from obsei==0.0.6) (0.4.8)\n",
            "Requirement already satisfied: pydantic==1.8.1 in /usr/local/lib/python3.7/dist-packages (from obsei==0.0.6) (1.8.1)\n",
            "Requirement already satisfied: pyparsing==2.4.7 in /usr/local/lib/python3.7/dist-packages (from obsei==0.0.6) (2.4.7)\n",
            "Requirement already satisfied: python-dateutil==2.8.1 in /usr/local/lib/python3.7/dist-packages (from obsei==0.0.6) (2.8.1)\n",
            "Requirement already satisfied: pytz==2021.1 in /usr/local/lib/python3.7/dist-packages (from obsei==0.0.6) (2021.1)\n",
            "Requirement already satisfied: pyyaml==5.4.1 in /usr/local/lib/python3.7/dist-packages (from obsei==0.0.6) (5.4.1)\n",
            "Requirement already satisfied: reddit-rss-reader==1.1 in /usr/local/lib/python3.7/dist-packages (from obsei==0.0.6) (1.1)\n",
            "Requirement already satisfied: regex==2021.3.17 in /usr/local/lib/python3.7/dist-packages (from obsei==0.0.6) (2021.3.17)\n",
            "Requirement already satisfied: requests-oauthlib==1.3.0 in /usr/local/lib/python3.7/dist-packages (from obsei==0.0.6) (1.3.0)\n",
            "Requirement already satisfied: requests==2.25.1 in /usr/local/lib/python3.7/dist-packages (from obsei==0.0.6) (2.25.1)\n",
            "Requirement already satisfied: rsa==4.7.2 in /usr/local/lib/python3.7/dist-packages (from obsei==0.0.6) (4.7.2)\n",
            "Requirement already satisfied: sacremoses==0.0.43 in /usr/local/lib/python3.7/dist-packages (from obsei==0.0.6) (0.0.43)\n",
            "Requirement already satisfied: searchtweets-v2==1.0.7 in /usr/local/lib/python3.7/dist-packages (from obsei==0.0.6) (1.0.7)\n",
            "Requirement already satisfied: sgmllib3k==1.0.0 in /usr/local/lib/python3.7/dist-packages (from obsei==0.0.6) (1.0.0)\n",
            "Requirement already satisfied: six==1.15.0 in /usr/local/lib/python3.7/dist-packages (from obsei==0.0.6) (1.15.0)\n",
            "Requirement already satisfied: slack-sdk==3.4.2 in /usr/local/lib/python3.7/dist-packages (from obsei==0.0.6) (3.4.2)\n",
            "Requirement already satisfied: soupsieve==2.2 in /usr/local/lib/python3.7/dist-packages (from obsei==0.0.6) (2.2)\n",
            "Requirement already satisfied: sqlalchemy==1.4.1 in /usr/local/lib/python3.7/dist-packages (from obsei==0.0.6) (1.4.1)\n",
            "Requirement already satisfied: starlette==0.13.6 in /usr/local/lib/python3.7/dist-packages (from obsei==0.0.6) (0.13.6)\n",
            "Requirement already satisfied: tokenizers==0.10.1 in /usr/local/lib/python3.7/dist-packages (from obsei==0.0.6) (0.10.1)\n",
            "Requirement already satisfied: torch==1.8.0 in /usr/local/lib/python3.7/dist-packages (from obsei==0.0.6) (1.8.0+cu101)\n",
            "Requirement already satisfied: tqdm==4.59.0 in /usr/local/lib/python3.7/dist-packages (from obsei==0.0.6) (4.59.0)\n",
            "Requirement already satisfied: transformers==4.4.1 in /usr/local/lib/python3.7/dist-packages (from obsei==0.0.6) (4.4.1)\n",
            "Requirement already satisfied: tweet-preprocessor==0.6.0 in /usr/local/lib/python3.7/dist-packages (from obsei==0.0.6) (0.6.0)\n",
            "Requirement already satisfied: typing-extensions==3.7.4.3 in /usr/local/lib/python3.7/dist-packages (from obsei==0.0.6) (3.7.4.3)\n",
            "Requirement already satisfied: tzlocal==2.1 in /usr/local/lib/python3.7/dist-packages (from obsei==0.0.6) (2.1)\n",
            "Requirement already satisfied: update-checker==0.18.0 in /usr/local/lib/python3.7/dist-packages (from obsei==0.0.6) (0.18.0)\n",
            "Requirement already satisfied: uritemplate==3.0.1 in /usr/local/lib/python3.7/dist-packages (from obsei==0.0.6) (3.0.1)\n",
            "Requirement already satisfied: urllib3==1.26.4 in /usr/local/lib/python3.7/dist-packages (from obsei==0.0.6) (1.26.4)\n",
            "Requirement already satisfied: uvicorn==0.13.4 in /usr/local/lib/python3.7/dist-packages (from obsei==0.0.6) (0.13.4)\n",
            "Requirement already satisfied: uvloop==0.15.2 in /usr/local/lib/python3.7/dist-packages (from obsei==0.0.6) (0.15.2)\n",
            "Requirement already satisfied: vadersentiment==3.3.2 in /usr/local/lib/python3.7/dist-packages (from obsei==0.0.6) (3.3.2)\n",
            "Requirement already satisfied: websocket-client==0.58.0 in /usr/local/lib/python3.7/dist-packages (from obsei==0.0.6) (0.58.0)\n",
            "Requirement already satisfied: werkzeug==1.0.1 in /usr/local/lib/python3.7/dist-packages (from obsei==0.0.6) (1.0.1)\n",
            "Requirement already satisfied: wrapt==1.12.1 in /usr/local/lib/python3.7/dist-packages (from obsei==0.0.6) (1.12.1)\n",
            "Requirement already satisfied: zenpy==2.0.24 in /usr/local/lib/python3.7/dist-packages (from obsei==0.0.6) (2.0.24)\n",
            "Requirement already satisfied: zipp==3.4.1 in /usr/local/lib/python3.7/dist-packages (from obsei==0.0.6) (3.4.1)\n",
            "Requirement already satisfied: setuptools>=0.7 in /usr/local/lib/python3.7/dist-packages (from apscheduler==3.7.0->obsei==0.0.6) (54.2.0)\n",
            "Building wheels for collected packages: obsei\n",
            "  Building wheel for obsei (setup.py) ... \u001b[?25l\u001b[?25hdone\n",
            "  Created wheel for obsei: filename=obsei-0.0.6-cp37-none-any.whl size=50033 sha256=03495c0dc02b38e0495e9fd47c6e4d0d20a694230ef6bf51e172686f4e4e0c12\n",
            "  Stored in directory: /tmp/pip-ephem-wheel-cache-tulmgikp/wheels/49/1a/6e/2fd83c9a275b7096fc615a0edef2d55b1fc33c3751ba45c1ad\n",
            "Successfully built obsei\n"
          ],
          "name": "stdout"
        }
      ]
    },
    {
      "cell_type": "markdown",
      "metadata": {
        "id": "6LBKWAIcgVVQ"
      },
      "source": [
        "## Configure Play Store Scrapper Source\n",
        "\n"
      ]
    },
    {
      "cell_type": "code",
      "metadata": {
        "id": "jXrKXXD_goqM"
      },
      "source": [
        "from obsei.source.playstore_scrapper import PlayStoreScrapperConfig, PlayStoreScrapperSource\n",
        "\n",
        "# initialize play store source config\n",
        "source_config = PlayStoreScrapperConfig(\n",
        "   # Need two parameters package_name and country. \n",
        "   # `package_name` can be found at the end of the url of app in play store. \n",
        "   # For example - https://play.google.com/store/apps/details?id=com.google.android.gm&hl=en&gl=US\n",
        "   # `com.google.android.gm` is the package_name for xcode and `us` is country.\n",
        "   countries=[\"us\"],\n",
        "   package_name=\"com.google.android.gm\",\n",
        "   max_count=10, # Number of reviews to fetch\n",
        "   lookup_period=\"1h\" # Lookup period from current time, format: `<number><d|h|m>` (day|hour|minute)\n",
        "\n",
        ")\n",
        "\n",
        "# initialize play store reviews retriever\n",
        "source = PlayStoreScrapperSource()"
      ],
      "execution_count": 2,
      "outputs": []
    },
    {
      "cell_type": "markdown",
      "metadata": {
        "id": "H9MyrQBUguFG"
      },
      "source": [
        "## Configure Text Classification Analyzer"
      ]
    },
    {
      "cell_type": "code",
      "metadata": {
        "id": "P4NACxKog2lE"
      },
      "source": [
        "from obsei.analyzer.classification_analyzer import ClassificationAnalyzerConfig, ZeroShotClassificationAnalyzer\n",
        "\n",
        "# initialize classification analyzer config\n",
        "# It can also detect sentiments if \"positive\" and \"negative\" labels are added.\n",
        "analyzer_config=ClassificationAnalyzerConfig(\n",
        "   labels=[\"interface\", \"crash\", \"performance\"],\n",
        ")\n",
        "\n",
        "# initialize classification analyzer\n",
        "# For supported models refer https://huggingface.co/models?filter=zero-shot-classification\n",
        "text_analyzer = ZeroShotClassificationAnalyzer(\n",
        "   model_name_or_path=\"typeform/mobilebert-uncased-mnli\",\n",
        "   device=\"auto\" # change to \"cuda:0\" for using gpu\n",
        ")"
      ],
      "execution_count": 3,
      "outputs": []
    },
    {
      "cell_type": "markdown",
      "metadata": {
        "id": "agsNOkhthVLy"
      },
      "source": [
        "## Configure Logger Sink"
      ]
    },
    {
      "cell_type": "code",
      "metadata": {
        "id": "Jz0xKBzRhdy1"
      },
      "source": [
        "from obsei.sink.logger_sink import LoggerSink, LoggerSinkConfig\n",
        "import logging\n",
        "import sys\n",
        "\n",
        "logger = logging.getLogger(\"Obsei\")\n",
        "logging.basicConfig(stream=sys.stdout, level=logging.INFO)\n",
        "\n",
        "# initialize logger sink config\n",
        "sink_config = LoggerSinkConfig(\n",
        "   logger=logger,\n",
        "   level=logging.INFO\n",
        ")\n",
        "\n",
        "# initialize logger sink\n",
        "sink = LoggerSink()"
      ],
      "execution_count": 4,
      "outputs": []
    },
    {
      "cell_type": "markdown",
      "metadata": {
        "id": "KvzpBr10hiZO"
      },
      "source": [
        "## Execute Workflow/Pipeline"
      ]
    },
    {
      "cell_type": "code",
      "metadata": {
        "colab": {
          "base_uri": "https://localhost:8080/"
        },
        "id": "_tEXKQRHhhSs",
        "outputId": "ef1ab9a9-818d-417b-eeb8-65ccb0bf35e7"
      },
      "source": [
        "# This will fetch information from configured source\n",
        "source_response_list = source.lookup(source_config)\n",
        "\n",
        "# This will execute analyzer\n",
        "analyzer_response_list = text_analyzer.analyze_input(\n",
        "    source_response_list=source_response_list,\n",
        "    analyzer_config=analyzer_config\n",
        ")\n",
        "\n",
        "# This will send analyzed output to sink\n",
        "sink.send_data(analyzer_response_list, sink_config)"
      ],
      "execution_count": 5,
      "outputs": [
        {
          "output_type": "stream",
          "text": [
            "Asking to truncate to max_length but no maximum length is provided and the model has no predefined maximum length. Default to no truncation.\n"
          ],
          "name": "stderr"
        },
        {
          "output_type": "stream",
          "text": [
            "INFO:Obsei:{'processed_text': 'Very safe app.I thank you for alerting of any problems.', 'segmented_data': {'positive': 0.989725649356842, 'interface': 0.7119664549827576, 'performance': 0.25247907638549805, 'crash': 0.012097842991352081, 'negative': 0.0014631063677370548}, 'meta': {'reviewId': 'gp:AOqpTOHapb-uwZEXjZcKD4FpilLyxqAQ7JzlExlrWF1zCOInfSTBeGlgfYRX-Fil6ztpezMjQD5bEhZCpH1rzvs', 'userName': 'Vickie Corneal', 'userImage': 'https://play-lh.googleusercontent.com/-REISJG7Hpl4/AAAAAAAAAAI/AAAAAAAAAAA/AMZuuclGPx3VL-9ZEUxxWDiPHGlA6gWn3A/photo.jpg', 'content': 'Very safe app.I thank you for alerting of any problems.', 'score': 4, 'thumbsUpCount': 0, 'reviewCreatedVersion': '2019.06.09.254811277.release', 'at': datetime.datetime(2021, 3, 26, 22, 22, 15), 'replyContent': None, 'repliedAt': None}, 'source_name': 'PlayStoreScrapper'}\n",
            "INFO:Obsei:{'processed_text': \"Had a new phone (pixel 4a) since Jan 2021 & thought it was time to switch to Gmail app for my emails especially since it's ran be Google you'd think it would be flawless with Google's own hardware/software but no! Some of my emails were 5 hours late! So I ended up going back to yahoo mail app as I like to receive my emails instantly.\", 'segmented_data': {'interface': 0.554413378238678, 'positive': 0.5083023905754089, 'performance': 0.28407496213912964, 'negative': 0.13942506909370422, 'crash': 0.02029484324157238}, 'meta': {'reviewId': 'gp:AOqpTOGKj4kCNaXE_qhwAsSxxj6blBdsaeey55PS_m5lfQvJITOhcmxjTzxApImsKvXSVqsP5-JhvW8U1094idM', 'userName': 'Dean Crowder', 'userImage': 'https://play-lh.googleusercontent.com/a-/AOh14Gg9u7B9ARGqJ5trWFzJg5YCPNS3ZlnrRKYcRnHB_Ps', 'content': \"Had a new phone (pixel 4a) since Jan 2021 & thought it was time to switch to Gmail app for my emails especially since it's ran be Google you'd think it would be flawless with Google's own hardware/software but no! Some of my emails were 5 hours late! So I ended up going back to yahoo mail app as I like to receive my emails instantly.\", 'score': 1, 'thumbsUpCount': 0, 'reviewCreatedVersion': '2021.02.21.361635104.Release', 'at': datetime.datetime(2021, 3, 26, 22, 22, 7), 'replyContent': None, 'repliedAt': None}, 'source_name': 'PlayStoreScrapper'}\n",
            "INFO:Obsei:{'processed_text': 'Keeps shutting down, why?', 'segmented_data': {'negative': 0.9541448354721069, 'crash': 0.25469809770584106, 'interface': 0.03516335040330887, 'performance': 0.004874388221651316, 'positive': 0.0006495638517662883}, 'meta': {'reviewId': 'gp:AOqpTOF2u0yBrFTGRxnxS5g6tcfO93Z2-lJnid_FLVjOsL7tIuDjnLjO3fX3nct84_V-OLCIYzWoanwWHroRP-I', 'userName': 'Honey Linus', 'userImage': 'https://play-lh.googleusercontent.com/-VUlX1zLb2UM/AAAAAAAAAAI/AAAAAAAAAAA/AMZuucm8GbnEB44neDntcgiJhJGMWiVWBA/photo.jpg', 'content': 'Keeps shutting down, why?', 'score': 1, 'thumbsUpCount': 0, 'reviewCreatedVersion': '2021.02.21.361635104.Release', 'at': datetime.datetime(2021, 3, 26, 22, 21, 28), 'replyContent': None, 'repliedAt': None}, 'source_name': 'PlayStoreScrapper'}\n",
            "INFO:Obsei:{'processed_text': 'My email is the most important part of my phone; for the last three days I cannot open my email please fix my email', 'segmented_data': {'positive': 0.2119247317314148, 'negative': 0.10374686121940613, 'performance': 0.08057017624378204, 'interface': 0.06785237044095993, 'crash': 0.03853990137577057}, 'meta': {'reviewId': 'gp:AOqpTOE_5ZdXP4itD59tteamS13h--JKpgyM2ZePE2WeO2kGbdQNfMv0Lvtz5U56bDELfk23fSQ7hGIxn0VYopk', 'userName': 'Robin Midgett', 'userImage': 'https://play-lh.googleusercontent.com/-uEA8_VM9w9E/AAAAAAAAAAI/AAAAAAAAAAA/AMZuuclHsEJBE7TQHzsVXknrntQT6gPeng/photo.jpg', 'content': 'My email is the most important part of my phone; for the last three days I cannot open my email please fix my email', 'score': 1, 'thumbsUpCount': 0, 'reviewCreatedVersion': '2021.02.21.361635104.Release', 'at': datetime.datetime(2021, 3, 26, 22, 20, 48), 'replyContent': None, 'repliedAt': None}, 'source_name': 'PlayStoreScrapper'}\n",
            "INFO:Obsei:{'processed_text': \"Not working. Since the update it won't open and keeps closing. Can't open emails or get into the options. I dont use a laptop and need this was great before. Pls fix!\", 'segmented_data': {'negative': 0.7904039621353149, 'positive': 0.4716719686985016, 'performance': 0.23418252170085907, 'interface': 0.10877904295921326, 'crash': 0.10495638847351074}, 'meta': {'reviewId': 'gp:AOqpTOFhPSOW09op95oQpBrNCdOSl26WLsAU1rAt3F9-y8FemnPL_VFZrepnrPiEObRGPEJhcaVV5oVGKvNGlCU', 'userName': 'Trevor Mathers', 'userImage': 'https://play-lh.googleusercontent.com/-JEjpB43nCpo/AAAAAAAAAAI/AAAAAAAAAAA/AMZuuclEQlpZBtcHIliCGJk7MGM91qstfg/photo.jpg', 'content': \"Not working. Since the update it won't open and keeps closing. Can't open emails or get into the options. I dont use a laptop and need this was great before. Pls fix!\", 'score': 1, 'thumbsUpCount': 0, 'reviewCreatedVersion': '2021.02.21.361635104.Release', 'at': datetime.datetime(2021, 3, 26, 22, 18, 51), 'replyContent': None, 'repliedAt': None}, 'source_name': 'PlayStoreScrapper'}\n",
            "INFO:Obsei:{'processed_text': 'Great', 'segmented_data': {'positive': 0.9977073073387146, 'interface': 0.9308369159698486, 'performance': 0.8807284832000732, 'crash': 0.15913738310337067, 'negative': 0.00010683115397114307}, 'meta': {'reviewId': 'gp:AOqpTOHSuljYDFdw5IrSyIxbkR27Eat7O5eiN-i29WzQikfUf-99WnKRTHJERcaYrwM39BtmActC1F348HV3QX4', 'userName': 'Joylayar Arancana', 'userImage': 'https://play-lh.googleusercontent.com/a-/AOh14GhZMuo0osLrge4atF51DM3rqL0WyvufBFtUGPuB', 'content': 'Great', 'score': 5, 'thumbsUpCount': 0, 'reviewCreatedVersion': '2021.02.21.361635104.Release', 'at': datetime.datetime(2021, 3, 26, 22, 17, 24), 'replyContent': None, 'repliedAt': None}, 'source_name': 'PlayStoreScrapper'}\n",
            "INFO:Obsei:{'processed_text': 'if is good', 'segmented_data': {'positive': 0.7685442566871643, 'performance': 0.49283134937286377, 'interface': 0.24619683623313904, 'crash': 0.035512909293174744, 'negative': 0.007003331556916237}, 'meta': {'reviewId': 'gp:AOqpTOFk9FtcQZpvLtOnR1nfbMXU-HZ8FPFMJASjU7Yl4roLEUOdQNLgnFQKK7upsonm4ZqJCblNUqxgX16wnFo', 'userName': 'Birhanu Asfaw', 'userImage': 'https://play-lh.googleusercontent.com/a-/AOh14Gil42bhO5cBS74mPevBSs6bAn6C8pGX-XHco-H67A', 'content': 'if is good', 'score': 4, 'thumbsUpCount': 0, 'reviewCreatedVersion': '2020.05.31.316831277.release', 'at': datetime.datetime(2021, 3, 26, 22, 17, 15), 'replyContent': None, 'repliedAt': None}, 'source_name': 'PlayStoreScrapper'}\n",
            "INFO:Obsei:{'processed_text': \"For the past week, my email will close as soon as I get to open it.. won't evenet me read an email....\", 'segmented_data': {'negative': 0.8093071579933167, 'crash': 0.6003041863441467, 'positive': 0.22885845601558685, 'performance': 0.16369792819023132, 'interface': 0.06454633921384811}, 'meta': {'reviewId': 'gp:AOqpTOGfyAcn_81BVRToRhlolND3A2ufYmfMwyT77UG2y4k3iSiJk3mSRMA3YC75_49J4sJf4nPx8lJekf5ESk8', 'userName': 'Amanda Corey', 'userImage': 'https://play-lh.googleusercontent.com/-y3ydjAWoTWY/AAAAAAAAAAI/AAAAAAAAAAA/AMZuucmMEmAi0EDdIyBrE2cSWWTnYS81bg/photo.jpg', 'content': \"For the past week, my email will close as soon as I get to open it.. won't evenet me read an email....\", 'score': 2, 'thumbsUpCount': 0, 'reviewCreatedVersion': '2021.02.21.361635104.Release', 'at': datetime.datetime(2021, 3, 26, 22, 13, 28), 'replyContent': None, 'repliedAt': None}, 'source_name': 'PlayStoreScrapper'}\n",
            "INFO:Obsei:{'processed_text': 'Nice', 'segmented_data': {'positive': 0.9959115982055664, 'interface': 0.8088926076889038, 'performance': 0.7435483336448669, 'crash': 0.19384728372097015, 'negative': 0.0002808143035508692}, 'meta': {'reviewId': 'gp:AOqpTOFlo19SGbbFA9MOij1H01uwoq_biUQz6V-XcRTNwekPcvhc52Sm8pbmzuLC4qQqMVpSVz7XQFDFEgP825o', 'userName': 'Arun Kujur', 'userImage': 'https://play-lh.googleusercontent.com/-qds9srrsDjM/AAAAAAAAAAI/AAAAAAAAAAA/AMZuucmrmBJyJhCXiiGP8B3Ov1T5rTai8g/photo.jpg', 'content': 'Nice', 'score': 4, 'thumbsUpCount': 0, 'reviewCreatedVersion': '2021.02.05.357775197.Release', 'at': datetime.datetime(2021, 3, 26, 22, 11, 26), 'replyContent': None, 'repliedAt': None}, 'source_name': 'PlayStoreScrapper'}\n",
            "INFO:Obsei:{'processed_text': 'Facing notification issues...not getting any notification for all gmail linked accounts. Missing out on important mails on time.', 'segmented_data': {'negative': 0.975699245929718, 'crash': 0.08844484388828278, 'interface': 0.009598585776984692, 'performance': 0.0027882547583431005, 'positive': 3.1121893698582426e-05}, 'meta': {'reviewId': 'gp:AOqpTOHwKwiO8m1QlNqJxZ_GntG-RUdQy1jdH5v-0FTIzgbjxtxoidlQn53AH8F5UfLR2Ysp-kIZOnW1QQ-39U0', 'userName': 'kshitij Maheshwary', 'userImage': 'https://play-lh.googleusercontent.com/a-/AOh14GhKf5XKB1zsgXTXCw8zPudTli4qMHheoYHCEi2UXeI', 'content': 'Facing notification issues...not getting any notification for all gmail linked accounts. Missing out on important mails on time.', 'score': 1, 'thumbsUpCount': 0, 'reviewCreatedVersion': '2021.02.05.357775197.Release', 'at': datetime.datetime(2021, 3, 26, 22, 10, 58), 'replyContent': None, 'repliedAt': None}, 'source_name': 'PlayStoreScrapper'}\n"
          ],
          "name": "stdout"
        }
      ]
    }
  ]
}
